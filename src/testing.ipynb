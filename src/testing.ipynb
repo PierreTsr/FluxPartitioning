{
 "cells": [
  {
   "cell_type": "code",
   "execution_count": 1,
   "metadata": {
    "collapsed": true
   },
   "outputs": [],
   "source": [
    "import tensorflow as tf\n",
    "from tensorflow import keras\n",
    "import numpy as np\n",
    "import matplotlib.pyplot as plt\n",
    "from HMC_new import HMC"
   ]
  },
  {
   "cell_type": "code",
   "execution_count": 2,
   "outputs": [
    {
     "name": "stderr",
     "output_type": "stream",
     "text": [
      "2022-02-28 10:12:15.966659: I tensorflow/core/platform/cpu_feature_guard.cc:151] This TensorFlow binary is optimized with oneAPI Deep Neural Network Library (oneDNN) to use the following CPU instructions in performance-critical operations:  AVX2 FMA\n",
      "To enable them in other operations, rebuild TensorFlow with the appropriate compiler flags.\n"
     ]
    },
    {
     "data": {
      "image/png": "[encoded data removed]",
      "text/plain": "<IPython.core.display.Image object>"
     },
     "execution_count": 2,
     "metadata": {},
     "output_type": "execute_result"
    }
   ],
   "source": [
    "model = keras.Sequential([\n",
    "    keras.Input(shape=(4,)),\n",
    "    #keras.layers.Dense(8, activation=\"relu\"),\n",
    "    keras.layers.Dense(1)\n",
    "])\n",
    "model.compile(optimizer=\"adam\",\n",
    "             loss=keras.losses.MeanSquaredError())\n",
    "keras.utils.plot_model(model, show_shapes=True, to_file=\"../etc/test.png\")"
   ],
   "metadata": {
    "collapsed": false,
    "pycharm": {
     "name": "#%%\n"
    }
   }
  },
  {
   "cell_type": "code",
   "execution_count": 3,
   "outputs": [
    {
     "name": "stdout",
     "output_type": "stream",
     "text": [
      "(50, 4)\n"
     ]
    }
   ],
   "source": [
    "t = np.linspace(0.01, 3.14, 50)\n",
    "x = np.stack([\n",
    "    np.sin(t),\n",
    "    np.cos(t),\n",
    "    t ** 2,\n",
    "    np.log(t)\n",
    "]).T + 0.1 * np.random.randn(50, 4)\n",
    "print(x.shape)\n",
    "y = np.expand_dims(t, axis=1)"
   ],
   "metadata": {
    "collapsed": false,
    "pycharm": {
     "name": "#%%\n"
    }
   }
  },
  {
   "cell_type": "code",
   "execution_count": 4,
   "outputs": [
    {
     "name": "stdout",
     "output_type": "stream",
     "text": [
      "Epoch 1/100\n",
      "2/2 [==============================] - 0s 2ms/step - loss: 1.6624\n",
      "Epoch 2/100\n",
      "2/2 [==============================] - 0s 2ms/step - loss: 1.6287\n",
      "Epoch 3/100\n",
      "2/2 [==============================] - 0s 2ms/step - loss: 1.5978\n",
      "Epoch 4/100\n",
      "2/2 [==============================] - 0s 2ms/step - loss: 1.5664\n",
      "Epoch 5/100\n",
      "2/2 [==============================] - 0s 2ms/step - loss: 1.5342\n",
      "Epoch 6/100\n",
      "2/2 [==============================] - 0s 2ms/step - loss: 1.5030\n",
      "Epoch 7/100\n",
      "2/2 [==============================] - 0s 2ms/step - loss: 1.4719\n",
      "Epoch 8/100\n",
      "2/2 [==============================] - 0s 2ms/step - loss: 1.4418\n",
      "Epoch 9/100\n",
      "2/2 [==============================] - 0s 2ms/step - loss: 1.4124\n",
      "Epoch 10/100\n",
      "2/2 [==============================] - 0s 2ms/step - loss: 1.3840\n",
      "Epoch 11/100\n",
      "2/2 [==============================] - 0s 2ms/step - loss: 1.3541\n",
      "Epoch 12/100\n",
      "2/2 [==============================] - 0s 2ms/step - loss: 1.3266\n",
      "Epoch 13/100\n",
      "2/2 [==============================] - 0s 2ms/step - loss: 1.2983\n",
      "Epoch 14/100\n",
      "2/2 [==============================] - 0s 2ms/step - loss: 1.2707\n",
      "Epoch 15/100\n",
      "2/2 [==============================] - 0s 2ms/step - loss: 1.2444\n",
      "Epoch 16/100\n",
      "2/2 [==============================] - 0s 2ms/step - loss: 1.2172\n",
      "Epoch 17/100\n",
      "2/2 [==============================] - 0s 2ms/step - loss: 1.1907\n",
      "Epoch 18/100\n",
      "2/2 [==============================] - 0s 2ms/step - loss: 1.1658\n",
      "Epoch 19/100\n",
      "2/2 [==============================] - 0s 2ms/step - loss: 1.1416\n",
      "Epoch 20/100\n",
      "2/2 [==============================] - 0s 2ms/step - loss: 1.1165\n",
      "Epoch 21/100\n",
      "2/2 [==============================] - 0s 2ms/step - loss: 1.0910\n",
      "Epoch 22/100\n",
      "2/2 [==============================] - 0s 2ms/step - loss: 1.0683\n",
      "Epoch 23/100\n",
      "2/2 [==============================] - 0s 2ms/step - loss: 1.0439\n",
      "Epoch 24/100\n",
      "2/2 [==============================] - 0s 2ms/step - loss: 1.0233\n",
      "Epoch 25/100\n",
      "2/2 [==============================] - 0s 2ms/step - loss: 1.0005\n",
      "Epoch 26/100\n",
      "2/2 [==============================] - 0s 2ms/step - loss: 0.9771\n",
      "Epoch 27/100\n",
      "2/2 [==============================] - 0s 2ms/step - loss: 0.9567\n",
      "Epoch 28/100\n",
      "2/2 [==============================] - 0s 2ms/step - loss: 0.9355\n",
      "Epoch 29/100\n",
      "2/2 [==============================] - 0s 2ms/step - loss: 0.9154\n",
      "Epoch 30/100\n",
      "2/2 [==============================] - 0s 2ms/step - loss: 0.8942\n",
      "Epoch 31/100\n",
      "2/2 [==============================] - 0s 2ms/step - loss: 0.8756\n",
      "Epoch 32/100\n",
      "2/2 [==============================] - 0s 2ms/step - loss: 0.8566\n",
      "Epoch 33/100\n",
      "2/2 [==============================] - 0s 2ms/step - loss: 0.8381\n",
      "Epoch 34/100\n",
      "2/2 [==============================] - 0s 2ms/step - loss: 0.8197\n",
      "Epoch 35/100\n",
      "2/2 [==============================] - 0s 2ms/step - loss: 0.8011\n",
      "Epoch 36/100\n",
      "2/2 [==============================] - 0s 2ms/step - loss: 0.7836\n",
      "Epoch 37/100\n",
      "2/2 [==============================] - 0s 2ms/step - loss: 0.7672\n",
      "Epoch 38/100\n",
      "2/2 [==============================] - 0s 2ms/step - loss: 0.7502\n",
      "Epoch 39/100\n",
      "2/2 [==============================] - 0s 2ms/step - loss: 0.7343\n",
      "Epoch 40/100\n",
      "2/2 [==============================] - 0s 2ms/step - loss: 0.7185\n",
      "Epoch 41/100\n",
      "2/2 [==============================] - 0s 2ms/step - loss: 0.7028\n",
      "Epoch 42/100\n",
      "2/2 [==============================] - 0s 2ms/step - loss: 0.6872\n",
      "Epoch 43/100\n",
      "2/2 [==============================] - 0s 2ms/step - loss: 0.6722\n",
      "Epoch 44/100\n",
      "2/2 [==============================] - 0s 2ms/step - loss: 0.6583\n",
      "Epoch 45/100\n",
      "2/2 [==============================] - 0s 2ms/step - loss: 0.6440\n",
      "Epoch 46/100\n",
      "2/2 [==============================] - 0s 2ms/step - loss: 0.6298\n",
      "Epoch 47/100\n",
      "2/2 [==============================] - 0s 2ms/step - loss: 0.6168\n",
      "Epoch 48/100\n",
      "2/2 [==============================] - 0s 2ms/step - loss: 0.6036\n",
      "Epoch 49/100\n",
      "2/2 [==============================] - 0s 2ms/step - loss: 0.5900\n",
      "Epoch 50/100\n",
      "2/2 [==============================] - 0s 2ms/step - loss: 0.5780\n",
      "Epoch 51/100\n",
      "2/2 [==============================] - 0s 2ms/step - loss: 0.5657\n",
      "Epoch 52/100\n",
      "2/2 [==============================] - 0s 2ms/step - loss: 0.5539\n",
      "Epoch 53/100\n",
      "2/2 [==============================] - 0s 2ms/step - loss: 0.5419\n",
      "Epoch 54/100\n",
      "2/2 [==============================] - 0s 2ms/step - loss: 0.5309\n",
      "Epoch 55/100\n",
      "2/2 [==============================] - 0s 2ms/step - loss: 0.5197\n",
      "Epoch 56/100\n",
      "2/2 [==============================] - 0s 2ms/step - loss: 0.5092\n",
      "Epoch 57/100\n",
      "2/2 [==============================] - 0s 2ms/step - loss: 0.4987\n",
      "Epoch 58/100\n",
      "2/2 [==============================] - 0s 2ms/step - loss: 0.4883\n",
      "Epoch 59/100\n",
      "2/2 [==============================] - 0s 2ms/step - loss: 0.4783\n",
      "Epoch 60/100\n",
      "2/2 [==============================] - 0s 2ms/step - loss: 0.4688\n",
      "Epoch 61/100\n",
      "2/2 [==============================] - 0s 2ms/step - loss: 0.4595\n",
      "Epoch 62/100\n",
      "2/2 [==============================] - 0s 2ms/step - loss: 0.4503\n",
      "Epoch 63/100\n",
      "2/2 [==============================] - 0s 2ms/step - loss: 0.4413\n",
      "Epoch 64/100\n",
      "2/2 [==============================] - 0s 2ms/step - loss: 0.4327\n",
      "Epoch 65/100\n",
      "2/2 [==============================] - 0s 2ms/step - loss: 0.4244\n",
      "Epoch 66/100\n",
      "2/2 [==============================] - 0s 2ms/step - loss: 0.4159\n",
      "Epoch 67/100\n",
      "2/2 [==============================] - 0s 2ms/step - loss: 0.4080\n",
      "Epoch 68/100\n",
      "2/2 [==============================] - 0s 2ms/step - loss: 0.4007\n",
      "Epoch 69/100\n",
      "2/2 [==============================] - 0s 2ms/step - loss: 0.3928\n",
      "Epoch 70/100\n",
      "2/2 [==============================] - 0s 2ms/step - loss: 0.3853\n",
      "Epoch 71/100\n",
      "2/2 [==============================] - 0s 2ms/step - loss: 0.3786\n",
      "Epoch 72/100\n",
      "2/2 [==============================] - 0s 2ms/step - loss: 0.3714\n",
      "Epoch 73/100\n",
      "2/2 [==============================] - 0s 2ms/step - loss: 0.3645\n",
      "Epoch 74/100\n",
      "2/2 [==============================] - 0s 2ms/step - loss: 0.3581\n",
      "Epoch 75/100\n",
      "2/2 [==============================] - 0s 2ms/step - loss: 0.3516\n",
      "Epoch 76/100\n",
      "2/2 [==============================] - 0s 2ms/step - loss: 0.3455\n",
      "Epoch 77/100\n",
      "2/2 [==============================] - 0s 2ms/step - loss: 0.3392\n",
      "Epoch 78/100\n",
      "2/2 [==============================] - 0s 2ms/step - loss: 0.3334\n",
      "Epoch 79/100\n",
      "2/2 [==============================] - 0s 2ms/step - loss: 0.3279\n",
      "Epoch 80/100\n",
      "2/2 [==============================] - 0s 2ms/step - loss: 0.3220\n",
      "Epoch 81/100\n",
      "2/2 [==============================] - 0s 2ms/step - loss: 0.3168\n",
      "Epoch 82/100\n",
      "2/2 [==============================] - 0s 2ms/step - loss: 0.3114\n",
      "Epoch 83/100\n",
      "2/2 [==============================] - 0s 2ms/step - loss: 0.3064\n",
      "Epoch 84/100\n",
      "2/2 [==============================] - 0s 2ms/step - loss: 0.3013\n",
      "Epoch 85/100\n",
      "2/2 [==============================] - 0s 2ms/step - loss: 0.2964\n",
      "Epoch 86/100\n",
      "2/2 [==============================] - 0s 2ms/step - loss: 0.2920\n",
      "Epoch 87/100\n",
      "2/2 [==============================] - 0s 2ms/step - loss: 0.2875\n",
      "Epoch 88/100\n",
      "2/2 [==============================] - 0s 2ms/step - loss: 0.2829\n",
      "Epoch 89/100\n",
      "2/2 [==============================] - 0s 2ms/step - loss: 0.2787\n",
      "Epoch 90/100\n",
      "2/2 [==============================] - 0s 2ms/step - loss: 0.2745\n",
      "Epoch 91/100\n",
      "2/2 [==============================] - 0s 2ms/step - loss: 0.2705\n",
      "Epoch 92/100\n",
      "2/2 [==============================] - 0s 2ms/step - loss: 0.2666\n",
      "Epoch 93/100\n",
      "2/2 [==============================] - 0s 2ms/step - loss: 0.2629\n",
      "Epoch 94/100\n",
      "2/2 [==============================] - 0s 2ms/step - loss: 0.2592\n",
      "Epoch 95/100\n",
      "2/2 [==============================] - 0s 2ms/step - loss: 0.2556\n",
      "Epoch 96/100\n",
      "2/2 [==============================] - 0s 2ms/step - loss: 0.2521\n",
      "Epoch 97/100\n",
      "2/2 [==============================] - 0s 2ms/step - loss: 0.2489\n",
      "Epoch 98/100\n",
      "2/2 [==============================] - 0s 2ms/step - loss: 0.2457\n",
      "Epoch 99/100\n",
      "2/2 [==============================] - 0s 2ms/step - loss: 0.2424\n",
      "Epoch 100/100\n",
      "2/2 [==============================] - 0s 2ms/step - loss: 0.2396\n"
     ]
    },
    {
     "data": {
      "text/plain": "<keras.callbacks.History at 0x7f2581f07520>"
     },
     "execution_count": 4,
     "metadata": {},
     "output_type": "execute_result"
    }
   ],
   "source": [
    "model.fit(x, y, epochs=100)"
   ],
   "metadata": {
    "collapsed": false,
    "pycharm": {
     "name": "#%%\n"
    }
   }
  },
  {
   "cell_type": "code",
   "execution_count": 5,
   "outputs": [
    {
     "data": {
      "text/plain": "<Figure size 432x288 with 1 Axes>",
      "image/png": "[encoded data removed]"
     },
     "metadata": {
      "needs_background": "light"
     },
     "output_type": "display_data"
    }
   ],
   "source": [
    "fig = plt.figure()\n",
    "plt.plot(t, y, 'b-')\n",
    "plt.plot(t, model(x), 'r-')\n",
    "plt.show()"
   ],
   "metadata": {
    "collapsed": false,
    "pycharm": {
     "name": "#%%\n"
    }
   }
  },
  {
   "cell_type": "code",
   "execution_count": 6,
   "outputs": [
    {
     "name": "stdout",
     "output_type": "stream",
     "text": [
      "[<tf.Variable 'dense/kernel:0' shape=(4, 1) dtype=float32, numpy=\n",
      "array([[ 0.24311268],\n",
      "       [-0.41739643],\n",
      "       [ 0.31697705],\n",
      "       [-0.40910703]], dtype=float32)>, <tf.Variable 'dense/bias:0' shape=(1,) dtype=float32, numpy=array([0.14993745], dtype=float32)>]\n"
     ]
    },
    {
     "ename": "InvalidArgumentError",
     "evalue": "Exception encountered when calling layer \"hmc\" (type HMC).\n\ncannot compute Mul as input #1(zero-based) was expected to be a int32 tensor but is a float tensor [Op:Mul]\n\nCall arguments received:\n  • inputs=('tf.Tensor(shape=(50, 4), dtype=float32)', 'tf.Tensor(shape=(50, 1), dtype=float32)')",
     "output_type": "error",
     "traceback": [
      "\u001B[0;31m---------------------------------------------------------------------------\u001B[0m",
      "\u001B[0;31mInvalidArgumentError\u001B[0m                      Traceback (most recent call last)",
      "Input \u001B[0;32mIn [6]\u001B[0m, in \u001B[0;36m<cell line: 3>\u001B[0;34m()\u001B[0m\n\u001B[1;32m      1\u001B[0m \u001B[38;5;28mprint\u001B[39m(model\u001B[38;5;241m.\u001B[39mtrainable_variables)\n\u001B[1;32m      2\u001B[0m hmc \u001B[38;5;241m=\u001B[39m HMC(model, \u001B[38;5;241m10\u001B[39m, \u001B[38;5;241m1e-3\u001B[39m, \u001B[38;5;241m50\u001B[39m)\n\u001B[0;32m----> 3\u001B[0m \u001B[43mhmc\u001B[49m\u001B[43m(\u001B[49m\u001B[43m(\u001B[49m\u001B[43mx\u001B[49m\u001B[43m,\u001B[49m\u001B[43my\u001B[49m\u001B[43m)\u001B[49m\u001B[43m)\u001B[49m\n",
      "File \u001B[0;32m~/.local/share/virtualenvs/FluxPartitionning-ENrEvxIC/lib/python3.8/site-packages/keras/utils/traceback_utils.py:67\u001B[0m, in \u001B[0;36mfilter_traceback.<locals>.error_handler\u001B[0;34m(*args, **kwargs)\u001B[0m\n\u001B[1;32m     65\u001B[0m \u001B[38;5;28;01mexcept\u001B[39;00m \u001B[38;5;167;01mException\u001B[39;00m \u001B[38;5;28;01mas\u001B[39;00m e:  \u001B[38;5;66;03m# pylint: disable=broad-except\u001B[39;00m\n\u001B[1;32m     66\u001B[0m   filtered_tb \u001B[38;5;241m=\u001B[39m _process_traceback_frames(e\u001B[38;5;241m.\u001B[39m__traceback__)\n\u001B[0;32m---> 67\u001B[0m   \u001B[38;5;28;01mraise\u001B[39;00m e\u001B[38;5;241m.\u001B[39mwith_traceback(filtered_tb) \u001B[38;5;28;01mfrom\u001B[39;00m \u001B[38;5;28mNone\u001B[39m\n\u001B[1;32m     68\u001B[0m \u001B[38;5;28;01mfinally\u001B[39;00m:\n\u001B[1;32m     69\u001B[0m   \u001B[38;5;28;01mdel\u001B[39;00m filtered_tb\n",
      "File \u001B[0;32m~/Documents/Columbia/LEAP/FluxPartitionning/src/HMC_new.py:79\u001B[0m, in \u001B[0;36mHMC.call\u001B[0;34m(self, inputs)\u001B[0m\n\u001B[1;32m     76\u001B[0m log_lambda_p \u001B[38;5;241m=\u001B[39m tf\u001B[38;5;241m.\u001B[39mrandom\u001B[38;5;241m.\u001B[39mnormal((\u001B[38;5;241m1\u001B[39m,))\n\u001B[1;32m     77\u001B[0m init_state \u001B[38;5;241m=\u001B[39m \u001B[38;5;28mself\u001B[39m\u001B[38;5;241m.\u001B[39mstate(momentum, log_gamma_p, log_lambda_p)\n\u001B[0;32m---> 79\u001B[0m hamiltonian_init, loss_initial \u001B[38;5;241m=\u001B[39m \u001B[38;5;28;43mself\u001B[39;49m\u001B[38;5;241;43m.\u001B[39;49m\u001B[43mhamiltonian\u001B[49m\u001B[43m(\u001B[49m\u001B[43minputs\u001B[49m\u001B[43m,\u001B[49m\u001B[43m \u001B[49m\u001B[43minit_state\u001B[49m\u001B[43m)\u001B[49m\n\u001B[1;32m     80\u001B[0m new_state \u001B[38;5;241m=\u001B[39m \u001B[38;5;28mself\u001B[39m\u001B[38;5;241m.\u001B[39mleap_frog(inputs, init_state)\n\u001B[1;32m     81\u001B[0m hamiltonian_final, loss_final \u001B[38;5;241m=\u001B[39m \u001B[38;5;28mself\u001B[39m\u001B[38;5;241m.\u001B[39mhamiltonian(inputs, new_state)\n",
      "File \u001B[0;32m~/Documents/Columbia/LEAP/FluxPartitionning/src/HMC_new.py:140\u001B[0m, in \u001B[0;36mHMC.hamiltonian\u001B[0;34m(self, inputs, state)\u001B[0m\n\u001B[1;32m    138\u001B[0m \u001B[38;5;28;01mdef\u001B[39;00m \u001B[38;5;21mhamiltonian\u001B[39m(\u001B[38;5;28mself\u001B[39m, inputs, state: HMCState):\n\u001B[1;32m    139\u001B[0m     k \u001B[38;5;241m=\u001B[39m HMC\u001B[38;5;241m.\u001B[39mkinetic_energy(state)\n\u001B[0;32m--> 140\u001B[0m     u, loss \u001B[38;5;241m=\u001B[39m \u001B[38;5;28;43mself\u001B[39;49m\u001B[38;5;241;43m.\u001B[39;49m\u001B[43mpotential_energy\u001B[49m\u001B[43m(\u001B[49m\u001B[43minputs\u001B[49m\u001B[43m,\u001B[49m\u001B[43m \u001B[49m\u001B[43mstate\u001B[49m\u001B[43m)\u001B[49m\n\u001B[1;32m    141\u001B[0m     \u001B[38;5;28;01mreturn\u001B[39;00m k \u001B[38;5;241m+\u001B[39m u, loss\n",
      "File \u001B[0;32m~/Documents/Columbia/LEAP/FluxPartitionning/src/HMC_new.py:135\u001B[0m, in \u001B[0;36mHMC.potential_energy\u001B[0;34m(self, inputs, state)\u001B[0m\n\u001B[1;32m    130\u001B[0m w \u001B[38;5;241m=\u001B[39m state\u001B[38;5;241m.\u001B[39mposition\n\u001B[1;32m    131\u001B[0m loss \u001B[38;5;241m=\u001B[39m \u001B[38;5;28mself\u001B[39m\u001B[38;5;241m.\u001B[39mget_loss(inputs)\n\u001B[1;32m    132\u001B[0m u \u001B[38;5;241m=\u001B[39m tf\u001B[38;5;241m.\u001B[39mexp(state\u001B[38;5;241m.\u001B[39mlog_gamma) \u001B[38;5;241m*\u001B[39m (loss \u001B[38;5;241m/\u001B[39m \u001B[38;5;241m2\u001B[39m \u001B[38;5;241m+\u001B[39m \u001B[38;5;241m1\u001B[39m) \\\n\u001B[1;32m    133\u001B[0m     \u001B[38;5;241m+\u001B[39m tf\u001B[38;5;241m.\u001B[39mexp(state\u001B[38;5;241m.\u001B[39mlog_lambda) \u001B[38;5;241m*\u001B[39m (tf\u001B[38;5;241m.\u001B[39mreduce_sum(tf\u001B[38;5;241m.\u001B[39mabs(w)) \u001B[38;5;241m+\u001B[39m \u001B[38;5;241m1\u001B[39m) \\\n\u001B[1;32m    134\u001B[0m     \u001B[38;5;241m-\u001B[39m (\u001B[38;5;28mself\u001B[39m\u001B[38;5;241m.\u001B[39mbatch_size \u001B[38;5;241m/\u001B[39m \u001B[38;5;241m2\u001B[39m \u001B[38;5;241m+\u001B[39m \u001B[38;5;241m1\u001B[39m) \u001B[38;5;241m*\u001B[39m state\u001B[38;5;241m.\u001B[39mlog_gamma \\\n\u001B[0;32m--> 135\u001B[0m     \u001B[38;5;241m-\u001B[39m \u001B[43m(\u001B[49m\u001B[38;5;28;43mself\u001B[39;49m\u001B[38;5;241;43m.\u001B[39;49m\u001B[43mparam_num\u001B[49m\u001B[43m \u001B[49m\u001B[38;5;241;43m+\u001B[39;49m\u001B[43m \u001B[49m\u001B[38;5;241;43m1\u001B[39;49m\u001B[43m)\u001B[49m\u001B[43m \u001B[49m\u001B[38;5;241;43m*\u001B[39;49m\u001B[43m \u001B[49m\u001B[43mstate\u001B[49m\u001B[38;5;241;43m.\u001B[39;49m\u001B[43mlog_lambda\u001B[49m\n\u001B[1;32m    136\u001B[0m \u001B[38;5;28;01mreturn\u001B[39;00m u, loss\n",
      "\u001B[0;31mInvalidArgumentError\u001B[0m: Exception encountered when calling layer \"hmc\" (type HMC).\n\ncannot compute Mul as input #1(zero-based) was expected to be a int32 tensor but is a float tensor [Op:Mul]\n\nCall arguments received:\n  • inputs=('tf.Tensor(shape=(50, 4), dtype=float32)', 'tf.Tensor(shape=(50, 1), dtype=float32)')"
     ]
    }
   ],
   "source": [
    "print(model.trainable_variables)\n",
    "hmc = HMC(model, 10, 1e-3, 50)\n",
    "hmc((x,y))"
   ],
   "metadata": {
    "collapsed": false,
    "pycharm": {
     "name": "#%%\n"
    }
   }
  },
  {
   "cell_type": "code",
   "execution_count": null,
   "outputs": [],
   "source": [],
   "metadata": {
    "collapsed": false,
    "pycharm": {
     "name": "#%%\n"
    }
   }
  },
  {
   "cell_type": "markdown",
   "source": [],
   "metadata": {
    "collapsed": false,
    "pycharm": {
     "name": "#%% md\n"
    }
   }
  }
 ],
 "metadata": {
  "kernelspec": {
   "display_name": "Python 3",
   "language": "python",
   "name": "python3"
  },
  "language_info": {
   "codemirror_mode": {
    "name": "ipython",
    "version": 2
   },
   "file_extension": ".py",
   "mimetype": "text/x-python",
   "name": "python",
   "nbconvert_exporter": "python",
   "pygments_lexer": "ipython2",
   "version": "2.7.6"
  }
 },
 "nbformat": 4,
 "nbformat_minor": 0
}